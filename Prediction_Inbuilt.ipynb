{
  "nbformat": 4,
  "nbformat_minor": 0,
  "metadata": {
    "colab": {
      "name": "Prediction_Inbuilt.ipynb",
      "version": "0.3.2",
      "provenance": [],
      "collapsed_sections": [],
      "include_colab_link": true
    },
    "kernelspec": {
      "name": "python3",
      "display_name": "Python 3"
    }
  },
  "cells": [
    {
      "cell_type": "markdown",
      "metadata": {
        "id": "view-in-github",
        "colab_type": "text"
      },
      "source": [
        "<a href=\"https://colab.research.google.com/github/Tina118/flower-prediction/blob/master/Prediction_Inbuilt.ipynb\" target=\"_parent\"><img src=\"https://colab.research.google.com/assets/colab-badge.svg\" alt=\"Open In Colab\"/></a>"
      ]
    },
    {
      "metadata": {
        "id": "JgucqBoq6tym",
        "colab_type": "text"
      },
      "cell_type": "markdown",
      "source": [
        "1.Importing libraries and packages\n",
        "\n",
        "Pandas is one of the python libraries which is used for manipulating dataframes and colums.\n",
        "we will be using pandas to read the dataset which is in ths csv format and store it in one variable."
      ]
    },
    {
      "metadata": {
        "id": "NXITcppP7lxo",
        "colab_type": "code",
        "colab": {}
      },
      "cell_type": "code",
      "source": [
        "import pandas as pd\n",
        "\n"
      ],
      "execution_count": 0,
      "outputs": []
    },
    {
      "metadata": {
        "id": "yBDSfWoJ7tQQ",
        "colab_type": "text"
      },
      "cell_type": "markdown",
      "source": [
        "2.Loading the dataset\n",
        "\n",
        "Using pandas we load the training and the testing dataset."
      ]
    },
    {
      "metadata": {
        "id": "QzUMIX3t8bqi",
        "colab_type": "code",
        "colab": {}
      },
      "cell_type": "code",
      "source": [
        "dataset_pathtrain='https://raw.githubusercontent.com/Tina118/flower-prediction/master/soildatasettrain.csv'\n",
        "training=pd.read_csv(dataset_pathtrain)"
      ],
      "execution_count": 0,
      "outputs": []
    },
    {
      "metadata": {
        "id": "s-Ix03Uf8trm",
        "colab_type": "text"
      },
      "cell_type": "markdown",
      "source": [
        "3. Feature Engineering \n",
        "\n",
        "Because values in the Flowers ,Soil_type columns are categorical values, we have to represent these strings as numerical values in order to perform our classification with our model.\n",
        "We change Flowers category as 0,1,2,3. We do the same for Soil_type category and Fertilizer category. We do this same process on both the training and testing set to prepare our data for further processing.\n",
        "\n"
      ]
    },
    {
      "metadata": {
        "id": "fk8DHxY6CYyi",
        "colab_type": "code",
        "colab": {}
      },
      "cell_type": "code",
      "source": [
        "training.loc[training[\"Flowers\"]==\"Rose\" , \"Flowers\"]=0\n",
        "training.loc[training[\"Flowers\"]==\"Lilies\" , \"Flowers\"]=1\n",
        "training.loc[training[\"Flowers\"]==\"Cactus\" , \"Flowers\"]=2\n",
        "training.loc[training[\"Flowers\"]==\"Hibiscus\" , \"Flowers\"]=3\n",
        "\n",
        "training.loc[training[\"Soil_type\"]==\"Loamy\" , \"Soil_type\"]=0\n",
        "training.loc[training[\"Soil_type\"]==\"Sandy Loamy\",\"Soil_type\"]=1\n",
        "training.loc[training[\"Soil_type\"]==\"Dry\" , \"Soil_type\"]=2\n",
        "\n",
        "\n",
        "\n"
      ],
      "execution_count": 0,
      "outputs": []
    },
    {
      "metadata": {
        "id": "XmTsqy3lDIFa",
        "colab_type": "text"
      },
      "cell_type": "markdown",
      "source": [
        "4.Model Fitting and Predicting\n",
        "\n",
        "Now we have processed the data properly and understood the general working of the dataset.And now we can start building our model.We will import the classifiers from sklearn and see the accuracy and the prediction of our model\n"
      ]
    },
    {
      "metadata": {
        "id": "ou-2Tz_YEN6K",
        "colab_type": "code",
        "colab": {}
      },
      "cell_type": "code",
      "source": [
        "\n",
        "from sklearn.svm import SVC\n",
        "from sklearn.ensemble import RandomForestClassifier\n",
        "from sklearn.linear_model import LogisticRegression\n",
        "from sklearn.neighbors import KNeighborsClassifier\n",
        "from sklearn.naive_bayes import GaussianNB\n",
        "from sklearn.tree import DecisionTreeClassifier\n",
        "from sklearn.metrics import make_scorer, accuracy_score "
      ],
      "execution_count": 0,
      "outputs": []
    },
    {
      "metadata": {
        "id": "RcpV2HnaErXu",
        "colab_type": "text"
      },
      "cell_type": "markdown",
      "source": [
        "Defining features in training and testing the dataset"
      ]
    },
    {
      "metadata": {
        "id": "TVSdorT4EzgK",
        "colab_type": "code",
        "colab": {}
      },
      "cell_type": "code",
      "source": [
        "X_train=training.copy()\n",
        "X_train.drop(labels = [\"Flowers\"], axis = 1, inplace = True)\n",
        "Y_train=training.Flowers\n",
        "testing=training.sample(n=100)\n",
        "X_test=testing.copy()\n",
        "X_test.drop([\"Flowers\"],axis=1,inplace=True)\n",
        "Y_test=testing.Flowers"
      ],
      "execution_count": 0,
      "outputs": []
    },
    {
      "metadata": {
        "id": "Nvus2r-oo1cS",
        "colab_type": "text"
      },
      "cell_type": "markdown",
      "source": [
        "SVC MODEL"
      ]
    },
    {
      "metadata": {
        "id": "M0x6eheAo8R6",
        "colab_type": "code",
        "outputId": "715573a1-d68f-4a71-84ee-0ccb2ba99323",
        "colab": {
          "base_uri": "https://localhost:8080/",
          "height": 159
        }
      },
      "cell_type": "code",
      "source": [
        "svc_clf = SVC() \n",
        "svc_clf.fit(X_train, Y_train)\n",
        "pred_svc = svc_clf.predict(X_test)\n",
        "y_predict=svc_clf.predict(X_train)\n",
        "print(pred_svc)\n",
        "acc_svc = accuracy_score(Y_train,y_predict)\n",
        "print(\"Accuracy for SVC model is:\")\n",
        "print(acc_svc)"
      ],
      "execution_count": 13,
      "outputs": [
        {
          "output_type": "stream",
          "text": [
            "[0 3 2 1 1 1 2 0 0 1 0 3 2 2 2 1 1 3 0 0 2 2 3 2 0 1 2 1 1 3 0 3 1 0 3 2 1\n",
            " 3 3 2 1 0 0 0 0 2 1 2 1 0 0 1 3 2 0 2 1 0 2 0 1 2 0 2 1 0 0 1 0 2 1 2 2 0\n",
            " 2 2 2 2 1 1 1 1 1 2 3 2 3 2 2 2 1 3 0 2 0 2 0 2 1 2]\n",
            "Accuracy for SVC model is:\n",
            "0.9675\n"
          ],
          "name": "stdout"
        },
        {
          "output_type": "stream",
          "text": [
            "/usr/local/lib/python3.6/dist-packages/sklearn/svm/base.py:196: FutureWarning: The default value of gamma will change from 'auto' to 'scale' in version 0.22 to account better for unscaled features. Set gamma explicitly to 'auto' or 'scale' to avoid this warning.\n",
            "  \"avoid this warning.\", FutureWarning)\n"
          ],
          "name": "stderr"
        }
      ]
    },
    {
      "metadata": {
        "id": "-GD2FjBqqIrE",
        "colab_type": "text"
      },
      "cell_type": "markdown",
      "source": [
        "RANDOM FOREST CLASSIFIER"
      ]
    },
    {
      "metadata": {
        "id": "ECilC4FXqNiA",
        "colab_type": "code",
        "outputId": "9ab6763a-75ac-44f5-8b23-1cfe9010f038",
        "colab": {
          "base_uri": "https://localhost:8080/",
          "height": 159
        }
      },
      "cell_type": "code",
      "source": [
        "rf_clf = RandomForestClassifier()\n",
        "rf_clf.fit(X_train, Y_train)\n",
        "pred_rf = rf_clf.predict(X_test)\n",
        "print(pred_rf)\n",
        "y_predict=rf_clf.predict(X_train)\n",
        "acc_rf = accuracy_score(Y_train,y_predict)\n",
        "print(\"Accuracy from random forest is:\")\n",
        "print(acc_rf)"
      ],
      "execution_count": 14,
      "outputs": [
        {
          "output_type": "stream",
          "text": [
            "[0 3 2 1 1 1 2 0 0 1 0 3 2 2 2 1 1 3 0 0 2 2 3 2 0 1 2 1 1 3 0 3 1 0 3 2 1\n",
            " 3 0 2 1 0 3 3 0 2 1 2 1 0 0 1 3 2 0 2 1 0 2 0 1 2 0 2 1 0 0 1 0 2 1 2 2 0\n",
            " 2 2 2 2 1 1 1 1 1 2 3 2 3 2 2 2 1 3 0 2 3 2 0 2 1 2]\n",
            "Accuracy from random forest is:\n",
            "0.998\n"
          ],
          "name": "stdout"
        },
        {
          "output_type": "stream",
          "text": [
            "/usr/local/lib/python3.6/dist-packages/sklearn/ensemble/forest.py:246: FutureWarning: The default value of n_estimators will change from 10 in version 0.20 to 100 in 0.22.\n",
            "  \"10 in version 0.20 to 100 in 0.22.\", FutureWarning)\n"
          ],
          "name": "stderr"
        }
      ]
    },
    {
      "metadata": {
        "id": "l6UT6xkMrK3m",
        "colab_type": "text"
      },
      "cell_type": "markdown",
      "source": [
        "LOGISTIC REGRESSION MODEL"
      ]
    },
    {
      "metadata": {
        "id": "8EG6w6NBrOto",
        "colab_type": "code",
        "outputId": "454a68bd-a5b3-4c09-e8c1-4c189ca89556",
        "colab": {
          "base_uri": "https://localhost:8080/",
          "height": 193
        }
      },
      "cell_type": "code",
      "source": [
        "logreg_clf = LogisticRegression()\n",
        "logreg_clf.fit(X_train, Y_train)\n",
        "pred_logreg = logreg_clf.predict(X_test)\n",
        "print(pred_logreg)\n",
        "y_predict=logreg_clf.predict(X_train)                               \n",
        "acc_logreg = accuracy_score(Y_train,y_predict)\n",
        "print(\"Accuracy by Logistic Regression is:\")\n",
        "print(acc_logreg)\n"
      ],
      "execution_count": 15,
      "outputs": [
        {
          "output_type": "stream",
          "text": [
            "[0 0 2 1 1 1 2 0 0 1 0 3 2 2 2 1 1 3 3 0 2 2 3 2 0 1 2 1 1 3 0 0 1 0 3 2 1\n",
            " 3 3 2 1 0 0 3 0 2 1 2 1 0 3 1 3 2 0 2 1 0 2 0 1 2 0 2 1 0 0 1 0 2 1 2 2 0\n",
            " 2 2 2 2 1 1 1 1 1 2 3 2 3 2 2 2 1 3 0 2 0 2 0 2 1 2]\n",
            "Accuracy by Logistic Regression is:\n",
            "0.882\n"
          ],
          "name": "stdout"
        },
        {
          "output_type": "stream",
          "text": [
            "/usr/local/lib/python3.6/dist-packages/sklearn/linear_model/logistic.py:433: FutureWarning: Default solver will be changed to 'lbfgs' in 0.22. Specify a solver to silence this warning.\n",
            "  FutureWarning)\n",
            "/usr/local/lib/python3.6/dist-packages/sklearn/linear_model/logistic.py:460: FutureWarning: Default multi_class will be changed to 'auto' in 0.22. Specify the multi_class option to silence this warning.\n",
            "  \"this warning.\", FutureWarning)\n"
          ],
          "name": "stderr"
        }
      ]
    },
    {
      "metadata": {
        "id": "N4rsJdlDdylA",
        "colab_type": "text"
      },
      "cell_type": "markdown",
      "source": [
        "DECISION TREE CLASSIFIER"
      ]
    },
    {
      "metadata": {
        "id": "D4lASDuQMcog",
        "colab_type": "code",
        "outputId": "64b4ffc4-8b70-4638-b616-29fd72ae4663",
        "colab": {
          "base_uri": "https://localhost:8080/",
          "height": 104
        }
      },
      "cell_type": "code",
      "source": [
        "dt_clf = DecisionTreeClassifier(criterion='entropy')\n",
        "dt_clf.fit(X_train, Y_train)\n",
        "pred_dt = dt_clf.predict(X_test)\n",
        "y_predict=dt_clf.predict(X_train)\n",
        "print(pred_dt)\n",
        "print(\"Accuracy of Decision Tree classifier is:\")\n",
        "accuracy_score(Y_train,y_predict)\n",
        "\n"
      ],
      "execution_count": 16,
      "outputs": [
        {
          "output_type": "stream",
          "text": [
            "[0 3 2 1 1 1 2 0 0 1 0 3 2 2 2 1 1 3 0 0 2 2 3 2 0 1 2 1 1 3 0 3 1 0 3 2 1\n",
            " 3 0 2 1 0 3 3 0 2 1 2 1 0 0 1 3 2 0 2 1 0 2 0 1 2 0 2 1 0 0 1 0 2 1 2 2 0\n",
            " 2 2 2 2 1 1 1 1 1 2 3 2 3 2 2 2 1 3 0 2 3 2 0 2 1 2]\n",
            "Accuracy of Decision Tree classifier is:\n"
          ],
          "name": "stdout"
        },
        {
          "output_type": "execute_result",
          "data": {
            "text/plain": [
              "0.9995"
            ]
          },
          "metadata": {
            "tags": []
          },
          "execution_count": 16
        }
      ]
    },
    {
      "metadata": {
        "id": "mtGgrs_ryY77",
        "colab_type": "code",
        "colab": {
          "base_uri": "https://localhost:8080/",
          "height": 104
        },
        "outputId": "43dfa38f-4d9a-491c-8f13-b90bccac37cc"
      },
      "cell_type": "code",
      "source": [
        "dt_clf = DecisionTreeClassifier(criterion='gini')\n",
        "dt_clf.fit(X_train, Y_train)\n",
        "pred_dt = dt_clf.predict(X_test)\n",
        "y_predict=dt_clf.predict(X_train)\n",
        "print(pred_dt)\n",
        "print(\"Accuracy of Decision Tree classifier is:\")\n",
        "accuracy_score(Y_train,y_predict)\n",
        "\n"
      ],
      "execution_count": 17,
      "outputs": [
        {
          "output_type": "stream",
          "text": [
            "[0 3 2 1 1 1 2 0 0 1 0 3 2 2 2 1 1 3 0 0 2 2 3 2 0 1 2 1 1 3 0 3 1 0 3 2 1\n",
            " 3 0 2 1 0 3 3 0 2 1 2 1 0 0 1 3 2 0 2 1 0 2 0 1 2 0 2 1 0 0 1 0 2 1 2 2 0\n",
            " 2 2 2 2 1 1 1 1 1 2 3 2 3 2 2 2 1 3 0 2 3 2 0 2 1 2]\n",
            "Accuracy of Decision Tree classifier is:\n"
          ],
          "name": "stdout"
        },
        {
          "output_type": "execute_result",
          "data": {
            "text/plain": [
              "0.9995"
            ]
          },
          "metadata": {
            "tags": []
          },
          "execution_count": 17
        }
      ]
    }
  ]
}