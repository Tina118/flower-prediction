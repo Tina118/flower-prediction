{
  "nbformat": 4,
  "nbformat_minor": 0,
  "metadata": {
    "colab": {
      "name": "DecisionTree.ipynb",
      "version": "0.3.2",
      "provenance": [],
      "collapsed_sections": [],
      "include_colab_link": true
    },
    "kernelspec": {
      "name": "python3",
      "display_name": "Python 3"
    }
  },
  "cells": [
    {
      "cell_type": "markdown",
      "metadata": {
        "id": "view-in-github",
        "colab_type": "text"
      },
      "source": [
        "<a href=\"https://colab.research.google.com/github/Tina118/flower-prediction/blob/master/DecisionTree.ipynb\" target=\"_parent\"><img src=\"https://colab.research.google.com/assets/colab-badge.svg\" alt=\"Open In Colab\"/></a>"
      ]
    },
    {
      "metadata": {
        "id": "UF8ZNQELuhWq",
        "colab_type": "text"
      },
      "cell_type": "markdown",
      "source": [
        "1.Importing libraries and packages\n",
        "\n",
        "Pandas is one of the python libraries which is used for manipulating dataframes and colums. we will be using pandas to read the dataset which is in ths csv format and store it in one variable.\n"
      ]
    },
    {
      "metadata": {
        "id": "nj_YWq_l3-ga",
        "colab_type": "code",
        "colab": {}
      },
      "cell_type": "code",
      "source": [
        "import pandas as pd\n",
        "import math"
      ],
      "execution_count": 0,
      "outputs": []
    },
    {
      "metadata": {
        "id": "3K8rCGg4uoQ3",
        "colab_type": "text"
      },
      "cell_type": "markdown",
      "source": [
        "2.Loading the dataset\n",
        "\n",
        "Using pandas we load the training and the testing dataset.\n"
      ]
    },
    {
      "metadata": {
        "id": "V6Ih0-Vw4N1W",
        "colab_type": "code",
        "colab": {}
      },
      "cell_type": "code",
      "source": [
        "dataset_pathtrain='https://raw.githubusercontent.com/Tina118/flower-prediction/master/soildatasettrain.csv'\n",
        "training=pd.read_csv(dataset_pathtrain)"
      ],
      "execution_count": 0,
      "outputs": []
    },
    {
      "metadata": {
        "id": "VT77vmf6CkAJ",
        "colab_type": "code",
        "colab": {
          "base_uri": "https://localhost:8080/",
          "height": 34
        },
        "outputId": "9575ce9e-8d98-492f-92a3-98bea67c5f96"
      },
      "cell_type": "code",
      "source": [
        "target=training.keys()[-1]\n",
        "print(target)"
      ],
      "execution_count": 58,
      "outputs": [
        {
          "output_type": "stream",
          "text": [
            "Flowers\n"
          ],
          "name": "stdout"
        }
      ]
    },
    {
      "metadata": {
        "id": "H7mlNZWwu5xZ",
        "colab_type": "text"
      },
      "cell_type": "markdown",
      "source": [
        "3.Model Fitting \n",
        "\n",
        "We are going to use decision tree for training our model.\n",
        "Here we have wrote code by converting all values in string \n"
      ]
    },
    {
      "metadata": {
        "id": "i-IvwK0J4cpj",
        "colab_type": "code",
        "colab": {}
      },
      "cell_type": "code",
      "source": [
        "train=pd.DataFrame()\n",
        "for i in training:\n",
        "  if all(isinstance(x,int) for x in training[i]) or all(isinstance(x,float) for x in training[i]):\n",
        "      sum1=0\n",
        "      for z in range(len(training[i])):\n",
        "          a=(training[i][z])\n",
        "          sum1=sum1+a\n",
        "      partition=int((sum1/len(training[i])))\n",
        "      l=[]\n",
        "      for j in range(len(training[i])):\n",
        "        if(training[i][j]<=partition):\n",
        "          l.append(\"<\"+str(partition))\n",
        "        else:\n",
        "          l.append(\">\"+str(partition))\n",
        "      train[i]=l\n",
        "  else:\n",
        "      l=[]\n",
        "      for z in range(len(training[i])):\n",
        "        l.append(training[i][z])\n",
        "      train[i]=l\n"
      ],
      "execution_count": 0,
      "outputs": []
    },
    {
      "metadata": {
        "id": "Pba0UVL4FpDL",
        "colab_type": "code",
        "colab": {}
      },
      "cell_type": "code",
      "source": [
        "testing=train.sample(n=100)\n",
        "#print(testing)\n",
        "x_test=testing.copy()\n",
        "x_test.drop([target],axis=1,inplace=True)\n",
        "y_test=list(testing[target])\n",
        "#print(y_test[0])\n",
        "print(testing)"
      ],
      "execution_count": 0,
      "outputs": []
    },
    {
      "metadata": {
        "id": "4kmcr8HhHFSe",
        "colab_type": "code",
        "colab": {}
      },
      "cell_type": "code",
      "source": [
        "def calculate_entropy(y_train):\n",
        "  #To calculate the entrop of full dataset\n",
        "  global class_entropy\n",
        "  class_entropy=0\n",
        "  count=0\n",
        "  class_values=y_train.unique()        #to find pre-defined classes in target column i.e unique flowers in the column in our case\n",
        "  #print(class_values)\n",
        "  for i in class_values:\n",
        "      count=list(y_train).count(i)     #count the number of unique flowers in our case \n",
        "      probability_flowers=count/len(y_train)\n",
        "      class_entropy=class_entropy-(probability_flowers*math.log(probability_flowers,2))  #count the entropy of target variable\n",
        "  #print(class_entropy)\n",
        "  return(class_entropy)\n",
        "#calculate_entropy(y_train)"
      ],
      "execution_count": 0,
      "outputs": []
    },
    {
      "metadata": {
        "id": "HeAwyGlZHhqe",
        "colab_type": "code",
        "colab": {}
      },
      "cell_type": "code",
      "source": [
        "import math\n",
        "import numpy as np\n",
        "def calculate_entropy_attributes(r,y_train):\n",
        "  attributes=r                                            #values of the column are stored in the attributes\n",
        "  a=0\n",
        "  probability_each=0\n",
        "  class_values=y_train.unique()                           #find the unique values of target variable\n",
        "  #for i in x_train:\n",
        "    #attributes=list(x_train[i])\n",
        "    \n",
        "   #To find unique values from the attributes list which has details of that particular column\n",
        "  attri_unique=[]\n",
        "  for z in attributes:\n",
        "      if z not in attri_unique:\n",
        "          attri_unique.append(z)\n",
        "      #print(attri_unique)\n",
        "      \n",
        "  #To count the number of count of each unique attributes for each class in target variable\n",
        "  entropy=0\n",
        "  for b in attri_unique:\n",
        "      count=0\n",
        "      probability=0\n",
        "      for a in range(len(attributes)):\n",
        "         if(attributes[a]==b):\n",
        "          count=count+1\n",
        "        #print(b,\"is \",count)\n",
        "         probability=count/len(attributes)\n",
        "        #for x in attri_unique:\n",
        "        \n",
        "  #To count the values those unique values for each class\n",
        "      for z in class_values:\n",
        "            count2=0\n",
        "            for j in range(len(attributes)):\n",
        "                if attributes[j]==b and y_train[j]==z:\n",
        "                    count2=count2+1\n",
        "            #print(z,\",\",b,\",\",count2)\n",
        "         \n",
        "   #To calculate entropy for the given attribute\n",
        "            if(count2==0):\n",
        "              probability_each=0\n",
        "            else:\n",
        "              a=count2/count\n",
        "              c=math.log(a,2)\n",
        "              probability_each=-a*c\n",
        "              #print(probability)\n",
        "            entropy=round(entropy+probability*probability_each,4)\n",
        "  #print(entropy)\n",
        "  return(abs(entropy))\n",
        "      \n",
        "#calculate_entropy_attributes(x_train,y_train)\n",
        "              "
      ],
      "execution_count": 0,
      "outputs": []
    },
    {
      "metadata": {
        "id": "mLnYRYGlH4F-",
        "colab_type": "code",
        "colab": {}
      },
      "cell_type": "code",
      "source": [
        "import numpy as p\n",
        "def calculate_informationgain(x_train,y_train):\n",
        "  Information_Gain=[]\n",
        "  for i in x_train:                                    #This loop is used to scan and work on each column one by one\n",
        "    r=list(x_train[i])                                 #values of that particular attributes are stored in a list \n",
        "    a=calculate_entropy(y_train)                       #To calculate class entropy calculate_entropy will be called\n",
        "    b=calculate_entropy_attributes(r,y_train)          #To calculate entropy of that attribute calculate_entropy_attributes will be called\n",
        "    c=abs(round(a-b,4))                         \n",
        "    Information_Gain.append(c)\n",
        "  #print(Information_Gain)     \n",
        "  \n",
        "  #To stop the code at some point.At some point Information_Gain will have no value and because of which max value cannot be predicted\n",
        "  \n",
        "  while(len(Information_Gain)!=0):\n",
        "     #if len(Information_Gain)!=0:  \n",
        "        d=x_train.keys()[p.argmax(Information_Gain)] #argmax finds the index of the highest values and will return attribute name with that index\n",
        "        return(d)\n",
        "    \n",
        "   \n",
        "  #calculate_informationgain(x_train,y_train)\n",
        "  "
      ],
      "execution_count": 0,
      "outputs": []
    },
    {
      "metadata": {
        "id": "HzV3_Oa5JKx9",
        "colab_type": "code",
        "colab": {}
      },
      "cell_type": "code",
      "source": [
        "def string_partition(attributes,node,y_train,x_train,length,train):\n",
        "    class1=y_train.unique()\n",
        "  #for w in attributes:\n",
        "   # print(w)\n",
        "    train1=pd.DataFrame()\n",
        "    for i in train:\n",
        "      variables=train[i]\n",
        "      if i!=node:                 #as we don't want the node found in our new dataset this condition will restrict this condition\n",
        "          l=[]\n",
        "          for z in class1:\n",
        "            for j in range(length):\n",
        "              if(x_train[node][j]==attributes and y_train[j]==z):\n",
        "  \n",
        "                  l.append(variables[j])\n",
        "          train1[i]=l\n",
        "   \n",
        "    return(train1)\n",
        "    \n"
      ],
      "execution_count": 0,
      "outputs": []
    },
    {
      "metadata": {
        "id": "akpgdOGzJdmZ",
        "colab_type": "code",
        "colab": {}
      },
      "cell_type": "code",
      "source": [
        "import pandas as pd\n",
        "def construct_tree(train,length):\n",
        "  tree=None\n",
        "  #print(train)\n",
        "  x_train=train.copy()\n",
        "  x_train.drop([target], axis = 1, inplace = True)\n",
        "  y_train=train[target]\n",
        "  #print(training.keys())\n",
        "  node=calculate_informationgain(x_train,y_train)\n",
        "  #print(node)\n",
        "  while node:\n",
        "    value=list(train[node].unique())         #to find unique values from the node found\n",
        "   # print(value)\n",
        "    if tree is None:\n",
        "      tree={}\n",
        "      tree[node]={}\n",
        "    for attributes in value:\n",
        "          #print(\"attributes is\",attributes)\n",
        "          newset=string_partition(attributes,node,y_train,x_train,length,train)    #To create new dataset once node is predicted\n",
        "          #print(\"newset is\",newset.keys())\n",
        "          #newset=string(train,node,attributes)\n",
        "          #print(newset)\n",
        "          newvalue=np.unique(newset[target])                                       \n",
        "          if len(newset.keys())==1 and len(newvalue)>1 and len(value)>=1:\n",
        "            #print(\"hello\")\n",
        "            choose=[]\n",
        "            for i in range(len(newvalue)):\n",
        "              choose.append(newvalue[i])\n",
        "            tree[node][attributes]=choose\n",
        "            #print(\"newvalue is\",newvalue[i])\n",
        "          elif len(newvalue)==1:\n",
        "            tree[node][attributes]=newvalue[0]\n",
        "          else:\n",
        "              tree[node][attributes]=construct_tree(newset,len(newset))\n",
        "\n",
        "    return(tree)\n",
        "\n",
        "\n",
        "  \n",
        "  "
      ],
      "execution_count": 0,
      "outputs": []
    },
    {
      "metadata": {
        "id": "r6Vg-16Ckct8",
        "colab_type": "code",
        "colab": {}
      },
      "cell_type": "code",
      "source": [
        "tree=construct_tree(train,len(train))"
      ],
      "execution_count": 0,
      "outputs": []
    },
    {
      "metadata": {
        "id": "vMryFGxBfWj5",
        "colab_type": "code",
        "outputId": "42236088-e5ca-4222-d12f-321c23ae5727",
        "colab": {
          "base_uri": "https://localhost:8080/",
          "height": 225
        }
      },
      "cell_type": "code",
      "source": [
        "import pprint\n",
        "pprint.pprint(tree)\n",
        "#tree"
      ],
      "execution_count": 66,
      "outputs": [
        {
          "output_type": "stream",
          "text": [
            "{'Soil_type': {'Dry': 'Cactus',\n",
            "               'Loamy': {'PH': {'<6': 'Rose',\n",
            "                                '>6': {'Temperature': {'<20': {'Soil_moisture': {'>38': ['Hibiscus',\n",
            "                                                                                         'Rose']}},\n",
            "                                                       '>20': {'Soil_moisture': {'>38': ['Hibiscus',\n",
            "                                                                                         'Rose']}}}}}},\n",
            "               'Sandy Loamy': {'Soil_moisture': {'<38': 'Lilies',\n",
            "                                                 '>38': {'PH': {'<6': 'Lilies',\n",
            "                                                                '>6': {'Temperature': {'<20': ['Hibiscus',\n",
            "                                                                                               'Lilies'],\n",
            "                                                                                       '>20': ['Hibiscus',\n",
            "                                                                                               'Lilies']}}}}}}}}\n"
          ],
          "name": "stdout"
        }
      ]
    },
    {
      "metadata": {
        "id": "xh9TEXYcvYGl",
        "colab_type": "text"
      },
      "cell_type": "markdown",
      "source": [
        "4.Prediction"
      ]
    },
    {
      "metadata": {
        "id": "YSdf2v4rbjf1",
        "colab_type": "code",
        "colab": {}
      },
      "cell_type": "code",
      "source": [
        "def predict(x,tree):\n",
        "    for nodes in tree.keys():        \n",
        "        value = x[nodes]\n",
        "        tree = tree[nodes][value]\n",
        "        prediction = 0\n",
        "            \n",
        "        if type(tree) is dict:\n",
        "            prediction = predict(x, tree)\n",
        "        else:\n",
        "            prediction = tree\n",
        "            break;                            \n",
        "        \n",
        "    return prediction"
      ],
      "execution_count": 0,
      "outputs": []
    },
    {
      "metadata": {
        "id": "34RcRJ-Dbsqm",
        "colab_type": "code",
        "outputId": "228a96b0-32a0-457c-e645-8cfee7341be4",
        "colab": {
          "base_uri": "https://localhost:8080/",
          "height": 54
        }
      },
      "cell_type": "code",
      "source": [
        "final_prediction=[]\n",
        "import random\n",
        "for i in range(len(x_test)):\n",
        "  x=x_test.iloc[i]\n",
        "  prediction=predict(x,tree)\n",
        "  if type(prediction) is list:\n",
        "    a=len(prediction)\n",
        "    b=random.randint(0,len(prediction)-1)\n",
        "    prediction=prediction[b]\n",
        "  final_prediction.append(prediction)\n",
        "print(final_prediction)"
      ],
      "execution_count": 68,
      "outputs": [
        {
          "output_type": "stream",
          "text": [
            "['Lilies', 'Lilies', 'Hibiscus', 'Cactus', 'Hibiscus', 'Cactus', 'Rose', 'Cactus', 'Rose', 'Hibiscus', 'Cactus', 'Lilies', 'Cactus', 'Hibiscus', 'Lilies', 'Cactus', 'Cactus', 'Cactus', 'Cactus', 'Lilies', 'Rose', 'Lilies', 'Lilies', 'Rose', 'Rose', 'Rose', 'Hibiscus', 'Lilies', 'Hibiscus', 'Rose', 'Cactus', 'Lilies', 'Cactus', 'Lilies', 'Hibiscus', 'Cactus', 'Hibiscus', 'Cactus', 'Cactus', 'Rose', 'Cactus', 'Rose', 'Rose', 'Lilies', 'Cactus', 'Rose', 'Lilies', 'Rose', 'Lilies', 'Lilies', 'Lilies', 'Rose', 'Cactus', 'Hibiscus', 'Cactus', 'Rose', 'Cactus', 'Lilies', 'Lilies', 'Cactus', 'Hibiscus', 'Cactus', 'Hibiscus', 'Lilies', 'Rose', 'Hibiscus', 'Cactus', 'Hibiscus', 'Lilies', 'Rose', 'Lilies', 'Lilies', 'Rose', 'Cactus', 'Cactus', 'Cactus', 'Hibiscus', 'Rose', 'Lilies', 'Lilies', 'Rose', 'Lilies', 'Cactus', 'Rose', 'Cactus', 'Hibiscus', 'Lilies', 'Lilies', 'Lilies', 'Lilies', 'Rose', 'Lilies', 'Lilies', 'Hibiscus', 'Lilies', 'Lilies', 'Rose', 'Lilies', 'Cactus', 'Lilies']\n"
          ],
          "name": "stdout"
        }
      ]
    },
    {
      "metadata": {
        "id": "IH_-ns_Ovgc_",
        "colab_type": "text"
      },
      "cell_type": "markdown",
      "source": [
        "5.Accurancy of our model"
      ]
    },
    {
      "metadata": {
        "id": "noHlW73Hdt8D",
        "colab_type": "code",
        "outputId": "5e8db2ae-5068-4e13-f917-576f2e418384",
        "colab": {
          "base_uri": "https://localhost:8080/",
          "height": 34
        }
      },
      "cell_type": "code",
      "source": [
        "count=0\n",
        "for i in range(len(y_test)):\n",
        "  if y_test[i]==final_prediction[i]:\n",
        "    count=count+1\n",
        "print(count)"
      ],
      "execution_count": 69,
      "outputs": [
        {
          "output_type": "stream",
          "text": [
            "77\n"
          ],
          "name": "stdout"
        }
      ]
    }
  ]
}